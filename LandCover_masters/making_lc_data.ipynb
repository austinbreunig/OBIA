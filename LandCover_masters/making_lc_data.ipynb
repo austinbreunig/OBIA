{
 "cells": [
  {
   "cell_type": "code",
   "execution_count": 2,
   "metadata": {},
   "outputs": [],
   "source": [
    "import os\n",
    "import glob\n",
    "import geopandas as gpd\n",
    "import pandas as pd\n",
    "import numpy as np"
   ]
  },
  {
   "cell_type": "code",
   "execution_count": 4,
   "metadata": {},
   "outputs": [
    {
     "name": "stdout",
     "output_type": "stream",
     "text": [
      "Inputs\\Buildings.shp\n",
      "Inputs\\HealthyGrass.shp\n",
      "Inputs\\Pavement.shp\n",
      "Inputs\\Trees.shp\n"
     ]
    }
   ],
   "source": [
    "# collect 2000 records from each land cover class raw dataframe.\n",
    "# all_df will be used as the training and test data for the ML model.\n",
    "\n",
    "all_df = pd.DataFrame()\n",
    "for fi in glob.glob('Inputs/*.shp'):    \n",
    "    df = gpd.read_file(os.path.abspath(fi))\n",
    "    sample = df.iloc[:, :-1].sample(2000)\n",
    "    all_df = pd.concat([all_df, sample])\n",
    "    print(fi)"
   ]
  },
  {
   "cell_type": "code",
   "execution_count": 7,
   "metadata": {},
   "outputs": [
    {
     "data": {
      "text/html": [
       "<div>\n",
       "<style scoped>\n",
       "    .dataframe tbody tr th:only-of-type {\n",
       "        vertical-align: middle;\n",
       "    }\n",
       "\n",
       "    .dataframe tbody tr th {\n",
       "        vertical-align: top;\n",
       "    }\n",
       "\n",
       "    .dataframe thead th {\n",
       "        text-align: right;\n",
       "    }\n",
       "</style>\n",
       "<table border=\"1\" class=\"dataframe\">\n",
       "  <thead>\n",
       "    <tr style=\"text-align: right;\">\n",
       "      <th></th>\n",
       "      <th>Land_Truth</th>\n",
       "      <th>Mean_Blue</th>\n",
       "      <th>Mean_Green</th>\n",
       "      <th>Mean_nDSM</th>\n",
       "      <th>Mean_NIR</th>\n",
       "      <th>Mean_Ratio</th>\n",
       "      <th>Mean_Red</th>\n",
       "      <th>NDVI</th>\n",
       "      <th>NIR_R_diff</th>\n",
       "      <th>sd_dsm</th>\n",
       "    </tr>\n",
       "  </thead>\n",
       "  <tbody>\n",
       "    <tr>\n",
       "      <th>0</th>\n",
       "      <td>Healthy Grass</td>\n",
       "      <td>76.214724</td>\n",
       "      <td>100.404908</td>\n",
       "      <td>0.266467</td>\n",
       "      <td>157.196319</td>\n",
       "      <td>1.761515</td>\n",
       "      <td>89.239264</td>\n",
       "      <td>0.275760</td>\n",
       "      <td>67.957055</td>\n",
       "      <td>1.108161</td>\n",
       "    </tr>\n",
       "    <tr>\n",
       "      <th>1</th>\n",
       "      <td>Trees</td>\n",
       "      <td>60.936709</td>\n",
       "      <td>64.531646</td>\n",
       "      <td>6.674799</td>\n",
       "      <td>129.050633</td>\n",
       "      <td>2.449543</td>\n",
       "      <td>52.683544</td>\n",
       "      <td>0.420213</td>\n",
       "      <td>76.367089</td>\n",
       "      <td>2.821334</td>\n",
       "    </tr>\n",
       "    <tr>\n",
       "      <th>2</th>\n",
       "      <td>Pavement</td>\n",
       "      <td>146.045455</td>\n",
       "      <td>162.479339</td>\n",
       "      <td>0.005762</td>\n",
       "      <td>136.404959</td>\n",
       "      <td>0.781302</td>\n",
       "      <td>174.586777</td>\n",
       "      <td>-0.122774</td>\n",
       "      <td>-38.181818</td>\n",
       "      <td>0.012323</td>\n",
       "    </tr>\n",
       "    <tr>\n",
       "      <th>3</th>\n",
       "      <td>Healthy Grass</td>\n",
       "      <td>73.800000</td>\n",
       "      <td>75.000000</td>\n",
       "      <td>1.081519</td>\n",
       "      <td>118.600000</td>\n",
       "      <td>1.708934</td>\n",
       "      <td>69.400000</td>\n",
       "      <td>0.261702</td>\n",
       "      <td>49.200000</td>\n",
       "      <td>0.591434</td>\n",
       "    </tr>\n",
       "    <tr>\n",
       "      <th>4</th>\n",
       "      <td>Pavement</td>\n",
       "      <td>126.521739</td>\n",
       "      <td>131.434783</td>\n",
       "      <td>0.544407</td>\n",
       "      <td>82.173913</td>\n",
       "      <td>0.577276</td>\n",
       "      <td>142.347826</td>\n",
       "      <td>-0.268009</td>\n",
       "      <td>-60.173913</td>\n",
       "      <td>1.059909</td>\n",
       "    </tr>\n",
       "  </tbody>\n",
       "</table>\n",
       "</div>"
      ],
      "text/plain": [
       "      Land_Truth   Mean_Blue  Mean_Green  Mean_nDSM    Mean_NIR  Mean_Ratio  \\\n",
       "0  Healthy Grass   76.214724  100.404908   0.266467  157.196319    1.761515   \n",
       "1          Trees   60.936709   64.531646   6.674799  129.050633    2.449543   \n",
       "2       Pavement  146.045455  162.479339   0.005762  136.404959    0.781302   \n",
       "3  Healthy Grass   73.800000   75.000000   1.081519  118.600000    1.708934   \n",
       "4       Pavement  126.521739  131.434783   0.544407   82.173913    0.577276   \n",
       "\n",
       "     Mean_Red      NDVI  NIR_R_diff    sd_dsm  \n",
       "0   89.239264  0.275760   67.957055  1.108161  \n",
       "1   52.683544  0.420213   76.367089  2.821334  \n",
       "2  174.586777 -0.122774  -38.181818  0.012323  \n",
       "3   69.400000  0.261702   49.200000  0.591434  \n",
       "4  142.347826 -0.268009  -60.173913  1.059909  "
      ]
     },
     "execution_count": 7,
     "metadata": {},
     "output_type": "execute_result"
    }
   ],
   "source": [
    "# shuffle dataframe\n",
    "all_df = all_df.sample(frac=1).reset_index(drop=True)\n",
    "all_df.head()"
   ]
  },
  {
   "cell_type": "code",
   "execution_count": 8,
   "metadata": {},
   "outputs": [],
   "source": [
    "import pickle"
   ]
  },
  {
   "cell_type": "code",
   "execution_count": 9,
   "metadata": {},
   "outputs": [],
   "source": [
    "with open('all_df.pkl', 'wb') as f:\n",
    "    pickle.dump(all_df, f)"
   ]
  },
  {
   "cell_type": "code",
   "execution_count": null,
   "metadata": {},
   "outputs": [],
   "source": []
  }
 ],
 "metadata": {
  "kernelspec": {
   "display_name": "datasci",
   "language": "python",
   "name": "python3"
  },
  "language_info": {
   "codemirror_mode": {
    "name": "ipython",
    "version": 3
   },
   "file_extension": ".py",
   "mimetype": "text/x-python",
   "name": "python",
   "nbconvert_exporter": "python",
   "pygments_lexer": "ipython3",
   "version": "3.11.0"
  },
  "orig_nbformat": 4
 },
 "nbformat": 4,
 "nbformat_minor": 2
}
