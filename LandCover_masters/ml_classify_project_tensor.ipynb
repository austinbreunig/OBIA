{
 "cells": [
  {
   "cell_type": "code",
   "execution_count": 1,
   "metadata": {},
   "outputs": [],
   "source": [
    "import os\n",
    "import glob\n",
    "import pandas as pd\n",
    "import geopandas as gpd\n",
    "import numpy as np\n",
    "import matplotlib.pyplot as plt\n",
    "import seaborn as sns\n",
    "import pickle\n",
    "%matplotlib inline"
   ]
  },
  {
   "attachments": {},
   "cell_type": "markdown",
   "metadata": {},
   "source": [
    "Known Land Cover types were derived from classified objects built in eCognition. An accuracy assessment of these classes held 90+% accuracy of each land cover type. \n",
    "\n",
    "Land Cover Types\n",
    "- Buildings\n",
    "- Pavement\n",
    "- Trees\n",
    "- Healthy Grass\n",
    "\n",
    "Each class contained upwards of 800k objects with the following spectral metrics. These metrics will be the features used to train the neural network.\n",
    "- Mean Red: Mean Red value of object\n",
    "- Mean Green: Mean Green value of object\n",
    "- Mean Blue: Mean Blue value of object\n",
    "- Mean NIR: Mean Near-infrared of object\n",
    "- Mean nDSM: Mean elevation of object\n",
    "- NDVI: Vegation Indice (Mean NIR - Mean Red) / (Mean NIR + Mean Red) (i.e. proxy for impervious/pervious surfaces)\n",
    "- Std. DSM: Standard deviation of elevation in object (i.e. proxy for smoothness)\n",
    "\n",
    "For speed purposes, I have only selected 4000 records from each class. These records will be combined in a single dataframe and then used to train and test the neural network."
   ]
  },
  {
   "cell_type": "code",
   "execution_count": 2,
   "metadata": {},
   "outputs": [
    {
     "name": "stdout",
     "output_type": "stream",
     "text": [
      "Inputs\\Buildings.shp\n",
      "Inputs\\HealthyGrass.shp\n",
      "Inputs\\Pavement.shp\n",
      "Inputs\\Trees.shp\n"
     ]
    },
    {
     "data": {
      "text/html": [
       "<div>\n",
       "<style scoped>\n",
       "    .dataframe tbody tr th:only-of-type {\n",
       "        vertical-align: middle;\n",
       "    }\n",
       "\n",
       "    .dataframe tbody tr th {\n",
       "        vertical-align: top;\n",
       "    }\n",
       "\n",
       "    .dataframe thead th {\n",
       "        text-align: right;\n",
       "    }\n",
       "</style>\n",
       "<table border=\"1\" class=\"dataframe\">\n",
       "  <thead>\n",
       "    <tr style=\"text-align: right;\">\n",
       "      <th></th>\n",
       "      <th>Land_Truth</th>\n",
       "      <th>Mean_Red</th>\n",
       "      <th>Mean_Green</th>\n",
       "      <th>Mean_Blue</th>\n",
       "      <th>Mean_NIR</th>\n",
       "      <th>Mean_nDSM</th>\n",
       "      <th>NDVI</th>\n",
       "      <th>sd_dsm</th>\n",
       "    </tr>\n",
       "  </thead>\n",
       "  <tbody>\n",
       "    <tr>\n",
       "      <th>0</th>\n",
       "      <td>Buildings</td>\n",
       "      <td>141.740741</td>\n",
       "      <td>144.222222</td>\n",
       "      <td>153.851852</td>\n",
       "      <td>80.629630</td>\n",
       "      <td>7.248476</td>\n",
       "      <td>-0.274817</td>\n",
       "      <td>3.596158</td>\n",
       "    </tr>\n",
       "    <tr>\n",
       "      <th>1</th>\n",
       "      <td>Trees</td>\n",
       "      <td>55.800000</td>\n",
       "      <td>74.500000</td>\n",
       "      <td>63.033333</td>\n",
       "      <td>168.333333</td>\n",
       "      <td>4.697876</td>\n",
       "      <td>0.502082</td>\n",
       "      <td>2.221059</td>\n",
       "    </tr>\n",
       "    <tr>\n",
       "      <th>2</th>\n",
       "      <td>Pavement</td>\n",
       "      <td>148.352941</td>\n",
       "      <td>145.411765</td>\n",
       "      <td>136.470588</td>\n",
       "      <td>108.529412</td>\n",
       "      <td>1.601957</td>\n",
       "      <td>-0.155026</td>\n",
       "      <td>1.158131</td>\n",
       "    </tr>\n",
       "    <tr>\n",
       "      <th>3</th>\n",
       "      <td>Healthy Grass</td>\n",
       "      <td>92.062500</td>\n",
       "      <td>103.468750</td>\n",
       "      <td>83.812500</td>\n",
       "      <td>150.843750</td>\n",
       "      <td>0.529682</td>\n",
       "      <td>0.241992</td>\n",
       "      <td>0.799021</td>\n",
       "    </tr>\n",
       "    <tr>\n",
       "      <th>4</th>\n",
       "      <td>Pavement</td>\n",
       "      <td>195.500000</td>\n",
       "      <td>190.000000</td>\n",
       "      <td>186.625000</td>\n",
       "      <td>152.750000</td>\n",
       "      <td>0.027512</td>\n",
       "      <td>-0.122757</td>\n",
       "      <td>0.021013</td>\n",
       "    </tr>\n",
       "  </tbody>\n",
       "</table>\n",
       "</div>"
      ],
      "text/plain": [
       "      Land_Truth    Mean_Red  Mean_Green   Mean_Blue    Mean_NIR  Mean_nDSM  \\\n",
       "0      Buildings  141.740741  144.222222  153.851852   80.629630   7.248476   \n",
       "1          Trees   55.800000   74.500000   63.033333  168.333333   4.697876   \n",
       "2       Pavement  148.352941  145.411765  136.470588  108.529412   1.601957   \n",
       "3  Healthy Grass   92.062500  103.468750   83.812500  150.843750   0.529682   \n",
       "4       Pavement  195.500000  190.000000  186.625000  152.750000   0.027512   \n",
       "\n",
       "       NDVI    sd_dsm  \n",
       "0 -0.274817  3.596158  \n",
       "1  0.502082  2.221059  \n",
       "2 -0.155026  1.158131  \n",
       "3  0.241992  0.799021  \n",
       "4 -0.122757  0.021013  "
      ]
     },
     "execution_count": 2,
     "metadata": {},
     "output_type": "execute_result"
    }
   ],
   "source": [
    "all_df = pd.DataFrame()\n",
    "for fi in glob.glob('Inputs/*.shp'):    \n",
    "    df = gpd.read_file(os.path.abspath(fi))\n",
    "    sample = df.loc[:, ['Land_Truth', \n",
    "                        'Mean_Red', \n",
    "                        'Mean_Green', \n",
    "                        'Mean_Blue', \n",
    "                        'Mean_NIR', \n",
    "                        'Mean_nDSM', \n",
    "                        'NDVI', \n",
    "                        'sd_dsm']].sample(4000)\n",
    "    \n",
    "    all_df = pd.concat([all_df, sample])\n",
    "    print(fi)\n",
    "\n",
    "# shuffle dataframe\n",
    "all_df = all_df.sample(frac=1).reset_index(drop=True)\n",
    "all_df.head()"
   ]
  },
  {
   "attachments": {},
   "cell_type": "markdown",
   "metadata": {},
   "source": [
    "## Exploratory Data Analysis\n",
    "The following creates a few figures to highlight some of the main distinctions between impervious and pervious surfaces. This distinction is very important when combined with the Mean nDSM attribute which can then further delineate each class. "
   ]
  },
  {
   "cell_type": "code",
   "execution_count": 4,
   "metadata": {},
   "outputs": [
    {
     "data": {
      "text/plain": [
       "Text(0.5, 1.0, 'NDVI by Class')"
      ]
     },
     "execution_count": 4,
     "metadata": {},
     "output_type": "execute_result"
    },
    {
     "data": {
      "image/png": "[encoded data removed]",
      "text/plain": [
       "<Figure size 640x480 with 1 Axes>"
      ]
     },
     "metadata": {},
     "output_type": "display_data"
    }
   ],
   "source": [
    "sns.boxplot(data=all_df, x='Land_Truth', y='NDVI')\n",
    "plt.title('NDVI by Class')\n"
   ]
  },
  {
   "cell_type": "code",
   "execution_count": 5,
   "metadata": {},
   "outputs": [
    {
     "data": {
      "text/plain": [
       "Text(0.5, 1.0, 'Height by Class')"
      ]
     },
     "execution_count": 5,
     "metadata": {},
     "output_type": "execute_result"
    },
    {
     "data": {
      "image/png": "[encoded data removed]",
      "text/plain": [
       "<Figure size 640x480 with 1 Axes>"
      ]
     },
     "metadata": {},
     "output_type": "display_data"
    }
   ],
   "source": [
    "sns.boxplot(data=all_df, x='Land_Truth', y='Mean_nDSM')\n",
    "plt.title('Height by Class')"
   ]
  },
  {
   "attachments": {},
   "cell_type": "markdown",
   "metadata": {},
   "source": [
    "## Clean Data\n",
    "Based on the above figures we see a few distinctions. First off, both impervious classes (buildings, pavement) have low NDVI values, whereas pervious(grass, trees) have high NDVI values. This makes sense as vegetation reflect more NIR whereas man-made structures reflect more Red. \n",
    "\n",
    "Secondly, height (elevation) for each class intutively makes sense: Buildings and Trees are much taller, whereas Pavement and Healthy Grass have values at or around 0-meters. Buildings primarily consist of heights around 5 to 7 meter with a large collection of outliers ranging upward of 40-meters. This makes sense as much of the imagery consist of residental neighborhoods with regular sized homes (5-7 meters or 15-20 feet), and a small downtown area containing much taller buildings. \n",
    "\n",
    "It's important to note that the Pavement class has a small colleciton of outliers with heights around 5-meters. This may be incorrect values and something that could be removed to give a better represenation of the class. These particular outliers could be objects that were not segmented quite well and could contain a mixture of other classes. "
   ]
  },
  {
   "attachments": {},
   "cell_type": "markdown",
   "metadata": {},
   "source": [
    "### Identify the relatively high nDSM values in the Pavement class"
   ]
  },
  {
   "attachments": {},
   "cell_type": "markdown",
   "metadata": {},
   "source": [
    "From a look of the distribution of the Mean_nDSM metric, we can see that the marjority of the values (75%) are within 0.73 meters. To find the group of outliers we can use the traditional definition of an outlier which is IQR * 1.5. Since are outliers are all high, then the calculation would be Q3 + IQR*1.5"
   ]
  },
  {
   "cell_type": "code",
   "execution_count": 4,
   "metadata": {},
   "outputs": [
    {
     "data": {
      "text/html": [
       "<div>\n",
       "<style scoped>\n",
       "    .dataframe tbody tr th:only-of-type {\n",
       "        vertical-align: middle;\n",
       "    }\n",
       "\n",
       "    .dataframe tbody tr th {\n",
       "        vertical-align: top;\n",
       "    }\n",
       "\n",
       "    .dataframe thead th {\n",
       "        text-align: right;\n",
       "    }\n",
       "</style>\n",
       "<table border=\"1\" class=\"dataframe\">\n",
       "  <thead>\n",
       "    <tr style=\"text-align: right;\">\n",
       "      <th></th>\n",
       "      <th>count</th>\n",
       "      <th>mean</th>\n",
       "      <th>std</th>\n",
       "      <th>min</th>\n",
       "      <th>25%</th>\n",
       "      <th>50%</th>\n",
       "      <th>75%</th>\n",
       "      <th>90%</th>\n",
       "      <th>max</th>\n",
       "    </tr>\n",
       "  </thead>\n",
       "  <tbody>\n",
       "    <tr>\n",
       "      <th>Mean_Red</th>\n",
       "      <td>4000.0</td>\n",
       "      <td>149.895606</td>\n",
       "      <td>26.835801</td>\n",
       "      <td>56.277487</td>\n",
       "      <td>127.895833</td>\n",
       "      <td>151.491383</td>\n",
       "      <td>171.768113</td>\n",
       "      <td>185.099645</td>\n",
       "      <td>217.166667</td>\n",
       "    </tr>\n",
       "    <tr>\n",
       "      <th>Mean_Green</th>\n",
       "      <td>4000.0</td>\n",
       "      <td>145.283050</td>\n",
       "      <td>26.775062</td>\n",
       "      <td>54.250000</td>\n",
       "      <td>124.266137</td>\n",
       "      <td>145.600000</td>\n",
       "      <td>166.046586</td>\n",
       "      <td>181.366857</td>\n",
       "      <td>218.833333</td>\n",
       "    </tr>\n",
       "    <tr>\n",
       "      <th>Mean_Blue</th>\n",
       "      <td>4000.0</td>\n",
       "      <td>138.732670</td>\n",
       "      <td>26.317025</td>\n",
       "      <td>59.500000</td>\n",
       "      <td>119.377674</td>\n",
       "      <td>136.717618</td>\n",
       "      <td>156.755896</td>\n",
       "      <td>175.943750</td>\n",
       "      <td>221.166667</td>\n",
       "    </tr>\n",
       "    <tr>\n",
       "      <th>Mean_NIR</th>\n",
       "      <td>4000.0</td>\n",
       "      <td>109.340559</td>\n",
       "      <td>30.014681</td>\n",
       "      <td>33.904762</td>\n",
       "      <td>85.426692</td>\n",
       "      <td>107.000000</td>\n",
       "      <td>132.595238</td>\n",
       "      <td>151.969494</td>\n",
       "      <td>210.365854</td>\n",
       "    </tr>\n",
       "    <tr>\n",
       "      <th>Mean_nDSM</th>\n",
       "      <td>4000.0</td>\n",
       "      <td>0.532636</td>\n",
       "      <td>0.736159</td>\n",
       "      <td>-2.645690</td>\n",
       "      <td>0.031070</td>\n",
       "      <td>0.191374</td>\n",
       "      <td>0.713001</td>\n",
       "      <td>1.798285</td>\n",
       "      <td>9.905356</td>\n",
       "    </tr>\n",
       "    <tr>\n",
       "      <th>NDVI</th>\n",
       "      <td>4000.0</td>\n",
       "      <td>-0.166306</td>\n",
       "      <td>0.078090</td>\n",
       "      <td>-0.567107</td>\n",
       "      <td>-0.226390</td>\n",
       "      <td>-0.161243</td>\n",
       "      <td>-0.100604</td>\n",
       "      <td>-0.071942</td>\n",
       "      <td>-0.000387</td>\n",
       "    </tr>\n",
       "    <tr>\n",
       "      <th>sd_dsm</th>\n",
       "      <td>4000.0</td>\n",
       "      <td>0.683168</td>\n",
       "      <td>0.759618</td>\n",
       "      <td>0.000000</td>\n",
       "      <td>0.068042</td>\n",
       "      <td>0.428231</td>\n",
       "      <td>1.052375</td>\n",
       "      <td>1.771596</td>\n",
       "      <td>9.344269</td>\n",
       "    </tr>\n",
       "  </tbody>\n",
       "</table>\n",
       "</div>"
      ],
      "text/plain": [
       "             count        mean        std        min         25%         50%  \\\n",
       "Mean_Red    4000.0  149.895606  26.835801  56.277487  127.895833  151.491383   \n",
       "Mean_Green  4000.0  145.283050  26.775062  54.250000  124.266137  145.600000   \n",
       "Mean_Blue   4000.0  138.732670  26.317025  59.500000  119.377674  136.717618   \n",
       "Mean_NIR    4000.0  109.340559  30.014681  33.904762   85.426692  107.000000   \n",
       "Mean_nDSM   4000.0    0.532636   0.736159  -2.645690    0.031070    0.191374   \n",
       "NDVI        4000.0   -0.166306   0.078090  -0.567107   -0.226390   -0.161243   \n",
       "sd_dsm      4000.0    0.683168   0.759618   0.000000    0.068042    0.428231   \n",
       "\n",
       "                   75%         90%         max  \n",
       "Mean_Red    171.768113  185.099645  217.166667  \n",
       "Mean_Green  166.046586  181.366857  218.833333  \n",
       "Mean_Blue   156.755896  175.943750  221.166667  \n",
       "Mean_NIR    132.595238  151.969494  210.365854  \n",
       "Mean_nDSM     0.713001    1.798285    9.905356  \n",
       "NDVI         -0.100604   -0.071942   -0.000387  \n",
       "sd_dsm        1.052375    1.771596    9.344269  "
      ]
     },
     "execution_count": 4,
     "metadata": {},
     "output_type": "execute_result"
    }
   ],
   "source": [
    "pavement_stats = all_df[all_df['Land_Truth'] == 'Pavement'].describe(percentiles=[.25,.5,.75,.9]).T\n",
    "pavement_stats"
   ]
  },
  {
   "cell_type": "code",
   "execution_count": 7,
   "metadata": {},
   "outputs": [
    {
     "name": "stdout",
     "output_type": "stream",
     "text": [
      "count    426.000000\n",
      "mean       2.262726\n",
      "std        0.485944\n",
      "min        1.731592\n",
      "25%        1.990124\n",
      "50%        2.193676\n",
      "75%        2.513737\n",
      "max        9.905356\n",
      "Name: Mean_nDSM, dtype: float64\n"
     ]
    }
   ],
   "source": [
    "PAVEMENT_Q3 = pavement_stats.loc['Mean_nDSM', '75%']\n",
    "PAVEMENT_Q1 = pavement_stats.loc['Mean_nDSM', '25%']\t\n",
    "OUTLIER_PAVEMENT = PAVEMENT_Q3 + ((PAVEMENT_Q3 - PAVEMENT_Q1)*1.5)\n",
    "\n",
    "# locate outliers\n",
    "pavement_outlier = all_df[(all_df['Land_Truth'] == 'Pavement') & \n",
    "       (all_df['Mean_nDSM'] >= (OUTLIER_PAVEMENT))]\n",
    "\n",
    "print(pavement_outlier['Mean_nDSM'].describe().T)"
   ]
  },
  {
   "cell_type": "code",
   "execution_count": 8,
   "metadata": {},
   "outputs": [
    {
     "data": {
      "text/plain": [
       "Text(0.5, 1.0, 'Height Distribution of Pavement Outliers')"
      ]
     },
     "execution_count": 8,
     "metadata": {},
     "output_type": "execute_result"
    },
    {
     "data": {
      "image/png": "[encoded data removed]",
      "text/plain": [
       "<Figure size 640x480 with 1 Axes>"
      ]
     },
     "metadata": {},
     "output_type": "display_data"
    }
   ],
   "source": [
    "# histogram to show distribution of the Pavement Outliers\n",
    "sns.histplot(pavement_outlier['Mean_nDSM'])\n",
    "plt.title('Height Distribution of Pavement Outliers')"
   ]
  },
  {
   "attachments": {},
   "cell_type": "markdown",
   "metadata": {},
   "source": [
    "It is important to ensure each labelled class has clear and distinct characteristics. Since the whole thing clearly differentating Pavement from the Buildings class is the Mean_nDSM attribute it is important to ensure values do not overlap from each class.\n",
    "\n",
    "The next step will be to look at the low end of heights in the Buildings Mean_nDSM distribution and identify a threshold to use for the Pavement class. Conversely, Buildings that overlap in height (i.e. within 2 std (75%)) should be removed. \n",
    "\n",
    "I have chosen to drop these outliers. In some cases, it may be smarter to reclassify these objects. "
   ]
  },
  {
   "cell_type": "code",
   "execution_count": 9,
   "metadata": {},
   "outputs": [
    {
     "data": {
      "text/html": [
       "<div>\n",
       "<style scoped>\n",
       "    .dataframe tbody tr th:only-of-type {\n",
       "        vertical-align: middle;\n",
       "    }\n",
       "\n",
       "    .dataframe tbody tr th {\n",
       "        vertical-align: top;\n",
       "    }\n",
       "\n",
       "    .dataframe thead th {\n",
       "        text-align: right;\n",
       "    }\n",
       "</style>\n",
       "<table border=\"1\" class=\"dataframe\">\n",
       "  <thead>\n",
       "    <tr style=\"text-align: right;\">\n",
       "      <th></th>\n",
       "      <th>count</th>\n",
       "      <th>mean</th>\n",
       "      <th>std</th>\n",
       "      <th>min</th>\n",
       "      <th>25%</th>\n",
       "      <th>50%</th>\n",
       "      <th>75%</th>\n",
       "      <th>max</th>\n",
       "    </tr>\n",
       "  </thead>\n",
       "  <tbody>\n",
       "    <tr>\n",
       "      <th>Mean_Red</th>\n",
       "      <td>4000.0</td>\n",
       "      <td>148.525485</td>\n",
       "      <td>29.602629</td>\n",
       "      <td>100.038462</td>\n",
       "      <td>124.633871</td>\n",
       "      <td>145.180707</td>\n",
       "      <td>171.203922</td>\n",
       "      <td>225.816667</td>\n",
       "    </tr>\n",
       "    <tr>\n",
       "      <th>Mean_Green</th>\n",
       "      <td>4000.0</td>\n",
       "      <td>144.609455</td>\n",
       "      <td>30.532259</td>\n",
       "      <td>73.142857</td>\n",
       "      <td>120.186458</td>\n",
       "      <td>140.832633</td>\n",
       "      <td>166.677296</td>\n",
       "      <td>227.966667</td>\n",
       "    </tr>\n",
       "    <tr>\n",
       "      <th>Mean_Blue</th>\n",
       "      <td>4000.0</td>\n",
       "      <td>139.747364</td>\n",
       "      <td>33.017933</td>\n",
       "      <td>71.000000</td>\n",
       "      <td>114.640706</td>\n",
       "      <td>133.870894</td>\n",
       "      <td>161.595732</td>\n",
       "      <td>229.300000</td>\n",
       "    </tr>\n",
       "    <tr>\n",
       "      <th>Mean_NIR</th>\n",
       "      <td>4000.0</td>\n",
       "      <td>104.831242</td>\n",
       "      <td>34.895306</td>\n",
       "      <td>43.515152</td>\n",
       "      <td>78.114551</td>\n",
       "      <td>96.894444</td>\n",
       "      <td>125.601786</td>\n",
       "      <td>211.771429</td>\n",
       "    </tr>\n",
       "    <tr>\n",
       "      <th>Mean_nDSM</th>\n",
       "      <td>4000.0</td>\n",
       "      <td>5.884369</td>\n",
       "      <td>3.097025</td>\n",
       "      <td>0.007741</td>\n",
       "      <td>3.797056</td>\n",
       "      <td>5.084790</td>\n",
       "      <td>6.899688</td>\n",
       "      <td>34.528684</td>\n",
       "    </tr>\n",
       "    <tr>\n",
       "      <th>NDVI</th>\n",
       "      <td>4000.0</td>\n",
       "      <td>-0.186320</td>\n",
       "      <td>0.085194</td>\n",
       "      <td>-0.414865</td>\n",
       "      <td>-0.252791</td>\n",
       "      <td>-0.198344</td>\n",
       "      <td>-0.124202</td>\n",
       "      <td>-0.000368</td>\n",
       "    </tr>\n",
       "    <tr>\n",
       "      <th>sd_dsm</th>\n",
       "      <td>4000.0</td>\n",
       "      <td>1.461108</td>\n",
       "      <td>1.147656</td>\n",
       "      <td>0.003447</td>\n",
       "      <td>0.621956</td>\n",
       "      <td>1.201917</td>\n",
       "      <td>1.972822</td>\n",
       "      <td>13.783238</td>\n",
       "    </tr>\n",
       "  </tbody>\n",
       "</table>\n",
       "</div>"
      ],
      "text/plain": [
       "             count        mean        std         min         25%         50%  \\\n",
       "Mean_Red    4000.0  148.525485  29.602629  100.038462  124.633871  145.180707   \n",
       "Mean_Green  4000.0  144.609455  30.532259   73.142857  120.186458  140.832633   \n",
       "Mean_Blue   4000.0  139.747364  33.017933   71.000000  114.640706  133.870894   \n",
       "Mean_NIR    4000.0  104.831242  34.895306   43.515152   78.114551   96.894444   \n",
       "Mean_nDSM   4000.0    5.884369   3.097025    0.007741    3.797056    5.084790   \n",
       "NDVI        4000.0   -0.186320   0.085194   -0.414865   -0.252791   -0.198344   \n",
       "sd_dsm      4000.0    1.461108   1.147656    0.003447    0.621956    1.201917   \n",
       "\n",
       "                   75%         max  \n",
       "Mean_Red    171.203922  225.816667  \n",
       "Mean_Green  166.677296  227.966667  \n",
       "Mean_Blue   161.595732  229.300000  \n",
       "Mean_NIR    125.601786  211.771429  \n",
       "Mean_nDSM     6.899688   34.528684  \n",
       "NDVI         -0.124202   -0.000368  \n",
       "sd_dsm        1.972822   13.783238  "
      ]
     },
     "execution_count": 9,
     "metadata": {},
     "output_type": "execute_result"
    }
   ],
   "source": [
    "all_df[all_df['Land_Truth'] == 'Buildings'].describe().T\n"
   ]
  },
  {
   "cell_type": "code",
   "execution_count": 10,
   "metadata": {},
   "outputs": [],
   "source": [
    "PAVEMENT_90PERCENTILE = pavement_stats.loc['Mean_nDSM', '90%']\n",
    "\n",
    "bad_pavement = all_df[(all_df['Land_Truth'] == 'Pavement') &\n",
    "       (all_df['Mean_nDSM'] >= OUTLIER_PAVEMENT)]\n",
    "\n",
    "\n",
    "bad_buildings = all_df[(all_df['Land_Truth'] == 'Buildings') &\n",
    "       (all_df['Mean_nDSM'] <= PAVEMENT_90PERCENTILE)]\n",
    "\n",
    "all_bad = pd.concat([bad_pavement, bad_buildings])\n",
    "all_df_clean = all_df.drop(all_bad.index)"
   ]
  },
  {
   "cell_type": "code",
   "execution_count": 11,
   "metadata": {},
   "outputs": [
    {
     "data": {
      "text/plain": [
       "Text(0.5, 1.0, 'Height by Class')"
      ]
     },
     "execution_count": 11,
     "metadata": {},
     "output_type": "execute_result"
    },
    {
     "data": {
      "image/png": "[encoded data removed]",
      "text/plain": [
       "<Figure size 640x480 with 1 Axes>"
      ]
     },
     "metadata": {},
     "output_type": "display_data"
    }
   ],
   "source": [
    "sns.boxplot(data=all_df_clean, x='Land_Truth', y='Mean_nDSM')\n",
    "plt.title('Height by Class')"
   ]
  },
  {
   "attachments": {},
   "cell_type": "markdown",
   "metadata": {},
   "source": [
    "The figure above, shows a better delineation of each class after removing some of the outliers in the Pavement class and reducing the lower-Quartile of the Buildings class to ensure minimal overlap. "
   ]
  },
  {
   "attachments": {},
   "cell_type": "markdown",
   "metadata": {},
   "source": [
    "## Model Development\n",
    "Deep Neural Network using a rectified linear unit for the activation funciton. This will be a mutually exclusive multi-classification model. For this, labels need to be converted to dummy variables. "
   ]
  },
  {
   "attachments": {},
   "cell_type": "markdown",
   "metadata": {},
   "source": [
    "### - Healthy Grass = 0\n",
    "### - Trees = 1\n",
    "### - Pavement = 2\n",
    "### - Buildings = 3"
   ]
  },
  {
   "cell_type": "code",
   "execution_count": 12,
   "metadata": {},
   "outputs": [
    {
     "data": {
      "text/html": [
       "<div>\n",
       "<style scoped>\n",
       "    .dataframe tbody tr th:only-of-type {\n",
       "        vertical-align: middle;\n",
       "    }\n",
       "\n",
       "    .dataframe tbody tr th {\n",
       "        vertical-align: top;\n",
       "    }\n",
       "\n",
       "    .dataframe thead th {\n",
       "        text-align: right;\n",
       "    }\n",
       "</style>\n",
       "<table border=\"1\" class=\"dataframe\">\n",
       "  <thead>\n",
       "    <tr style=\"text-align: right;\">\n",
       "      <th></th>\n",
       "      <th>Mean_Red</th>\n",
       "      <th>Mean_Green</th>\n",
       "      <th>Mean_Blue</th>\n",
       "      <th>Mean_NIR</th>\n",
       "      <th>Mean_nDSM</th>\n",
       "      <th>NDVI</th>\n",
       "      <th>sd_dsm</th>\n",
       "      <th>Class</th>\n",
       "    </tr>\n",
       "  </thead>\n",
       "  <tbody>\n",
       "    <tr>\n",
       "      <th>0</th>\n",
       "      <td>141.740741</td>\n",
       "      <td>144.222222</td>\n",
       "      <td>153.851852</td>\n",
       "      <td>80.62963</td>\n",
       "      <td>7.248476</td>\n",
       "      <td>-0.274817</td>\n",
       "      <td>3.596158</td>\n",
       "      <td>3</td>\n",
       "    </tr>\n",
       "  </tbody>\n",
       "</table>\n",
       "</div>"
      ],
      "text/plain": [
       "     Mean_Red  Mean_Green   Mean_Blue  Mean_NIR  Mean_nDSM      NDVI  \\\n",
       "0  141.740741  144.222222  153.851852  80.62963   7.248476 -0.274817   \n",
       "\n",
       "     sd_dsm  Class  \n",
       "0  3.596158      3  "
      ]
     },
     "execution_count": 12,
     "metadata": {},
     "output_type": "execute_result"
    }
   ],
   "source": [
    "# convert labels (Land Truth to integers)\n",
    "def convert_labels(x):\n",
    "    if x == 'Healthy Grass':\n",
    "        return 0\n",
    "    elif x == 'Trees':\n",
    "        return 1\n",
    "    elif x == 'Pavement':\n",
    "        return 2\n",
    "    else:\n",
    "        return 3 # Buildings\n",
    "\n",
    "all_df_clean['Class'] = all_df_clean['Land_Truth'].apply(lambda x: convert_labels(x))\n",
    "all_df_clean = all_df_clean.drop('Land_Truth', axis=1)\n",
    "all_df_clean.head(1)"
   ]
  },
  {
   "cell_type": "code",
   "execution_count": 13,
   "metadata": {},
   "outputs": [],
   "source": [
    "from sklearn.model_selection import train_test_split"
   ]
  },
  {
   "attachments": {},
   "cell_type": "markdown",
   "metadata": {},
   "source": [
    "Features have been split at a 70/30 ratio\n",
    "- 70% for Training\n",
    "- 30% for Testing"
   ]
  },
  {
   "cell_type": "code",
   "execution_count": 14,
   "metadata": {},
   "outputs": [],
   "source": [
    "X = all_df_clean.drop('Class',axis=1).values # features\n",
    "y = all_df_clean['Class'].values # labels\n",
    "X_train, X_test, y_train, y_test = train_test_split(X, y, test_size=0.30, random_state=10)"
   ]
  },
  {
   "attachments": {},
   "cell_type": "markdown",
   "metadata": {},
   "source": [
    "### Normalize Data\n",
    "Normalizing is required if features are of different units. Here I have used a basic MinMax which transforms each value between 0 and 1, while perserving the intra-relationship (ratios) of features."
   ]
  },
  {
   "cell_type": "code",
   "execution_count": 15,
   "metadata": {},
   "outputs": [],
   "source": [
    "from sklearn.preprocessing import MinMaxScaler"
   ]
  },
  {
   "cell_type": "code",
   "execution_count": 16,
   "metadata": {},
   "outputs": [],
   "source": [
    "scaler = MinMaxScaler()\n",
    "X_train = scaler.fit_transform(X_train) # only fit to traning data!\n",
    "X_test = scaler.transform(X_test) # transform "
   ]
  },
  {
   "attachments": {},
   "cell_type": "markdown",
   "metadata": {},
   "source": [
    "### Create and compile model\n",
    "The model's first layer has 7 neurons since there are 7 features. For simplicity's sake I've only included one hidden layer that contains about half the nuerons in the first layer. The last layer uses a softmax function since this is a multi-classificaiton model. \n"
   ]
  },
  {
   "cell_type": "code",
   "execution_count": 17,
   "metadata": {},
   "outputs": [],
   "source": [
    "import tensorflow as tf\n",
    "from tensorflow.keras.models import Sequential\n",
    "from tensorflow.keras.layers import Dense, Activation,Dropout\n",
    "from tensorflow.keras.constraints import max_norm"
   ]
  },
  {
   "cell_type": "code",
   "execution_count": 22,
   "metadata": {},
   "outputs": [],
   "source": [
    "model = Sequential()\n",
    "\n",
    "# input layer\n",
    "model.add(Dense(8,  activation='relu'))\n",
    "model.add(Dropout(0.2))\n",
    "\n",
    "# hidden layer\n",
    "model.add(Dense(5, activation='relu'))\n",
    "model.add(Dropout(0.2))\n",
    "\n",
    "# output layer\n",
    "model.add(Dense(4,activation='softmax'))\n",
    "\n",
    "# Compile model\n",
    "model.compile(loss='sparse_categorical_crossentropy', optimizer='adam')"
   ]
  },
  {
   "attachments": {},
   "cell_type": "markdown",
   "metadata": {},
   "source": [
    "### Train Model"
   ]
  },
  {
   "cell_type": "code",
   "execution_count": 23,
   "metadata": {},
   "outputs": [],
   "source": [
    "from tensorflow.keras.callbacks import EarlyStopping"
   ]
  },
  {
   "cell_type": "code",
   "execution_count": 24,
   "metadata": {},
   "outputs": [],
   "source": [
    "early_stop = EarlyStopping(monitor='val_loss', mode='min', verbose=1, patience=25)"
   ]
  },
  {
   "cell_type": "code",
   "execution_count": 25,
   "metadata": {},
   "outputs": [
    {
     "name": "stdout",
     "output_type": "stream",
     "text": [
      "Epoch 1/150\n",
      "109/109 [==============================] - 1s 7ms/step - loss: 1.3689 - val_loss: 1.3148\n",
      "Epoch 2/150\n",
      "109/109 [==============================] - 0s 4ms/step - loss: 1.2308 - val_loss: 1.0727\n",
      "Epoch 3/150\n",
      "109/109 [==============================] - 0s 4ms/step - loss: 1.0303 - val_loss: 0.8882\n",
      "Epoch 4/150\n",
      "109/109 [==============================] - 0s 3ms/step - loss: 0.9202 - val_loss: 0.7781\n",
      "Epoch 5/150\n",
      "109/109 [==============================] - 0s 3ms/step - loss: 0.8487 - val_loss: 0.7337\n",
      "Epoch 6/150\n",
      "109/109 [==============================] - 0s 3ms/step - loss: 0.8105 - val_loss: 0.7141\n",
      "Epoch 7/150\n",
      "109/109 [==============================] - 0s 3ms/step - loss: 0.7911 - val_loss: 0.7018\n",
      "Epoch 8/150\n",
      "109/109 [==============================] - 0s 3ms/step - loss: 0.7709 - val_loss: 0.6939\n",
      "Epoch 9/150\n",
      "109/109 [==============================] - 0s 3ms/step - loss: 0.7637 - val_loss: 0.6887\n",
      "Epoch 10/150\n",
      "109/109 [==============================] - 0s 2ms/step - loss: 0.7584 - val_loss: 0.6839\n",
      "Epoch 11/150\n",
      "109/109 [==============================] - 0s 3ms/step - loss: 0.7488 - val_loss: 0.6774\n",
      "Epoch 12/150\n",
      "109/109 [==============================] - 0s 3ms/step - loss: 0.7459 - val_loss: 0.6691\n",
      "Epoch 13/150\n",
      "109/109 [==============================] - 0s 3ms/step - loss: 0.7406 - val_loss: 0.6588\n",
      "Epoch 14/150\n",
      "109/109 [==============================] - 0s 3ms/step - loss: 0.7288 - val_loss: 0.6437\n",
      "Epoch 15/150\n",
      "109/109 [==============================] - 0s 3ms/step - loss: 0.7123 - val_loss: 0.6302\n",
      "Epoch 16/150\n",
      "109/109 [==============================] - 0s 4ms/step - loss: 0.7030 - val_loss: 0.6192\n",
      "Epoch 17/150\n",
      "109/109 [==============================] - 0s 2ms/step - loss: 0.6962 - val_loss: 0.6056\n",
      "Epoch 18/150\n",
      "109/109 [==============================] - 0s 3ms/step - loss: 0.6802 - val_loss: 0.5883\n",
      "Epoch 19/150\n",
      "109/109 [==============================] - 0s 3ms/step - loss: 0.6722 - val_loss: 0.5792\n",
      "Epoch 20/150\n",
      "109/109 [==============================] - 0s 3ms/step - loss: 0.6674 - val_loss: 0.5621\n",
      "Epoch 21/150\n",
      "109/109 [==============================] - 0s 3ms/step - loss: 0.6587 - val_loss: 0.5535\n",
      "Epoch 22/150\n",
      "109/109 [==============================] - 0s 3ms/step - loss: 0.6526 - val_loss: 0.5427\n",
      "Epoch 23/150\n",
      "109/109 [==============================] - 0s 4ms/step - loss: 0.6483 - val_loss: 0.5248\n",
      "Epoch 24/150\n",
      "109/109 [==============================] - 1s 5ms/step - loss: 0.6435 - val_loss: 0.5191\n",
      "Epoch 25/150\n",
      "109/109 [==============================] - 0s 4ms/step - loss: 0.6346 - val_loss: 0.5075\n",
      "Epoch 26/150\n",
      "109/109 [==============================] - 0s 4ms/step - loss: 0.6259 - val_loss: 0.4988\n",
      "Epoch 27/150\n",
      "109/109 [==============================] - 0s 4ms/step - loss: 0.6193 - val_loss: 0.4869\n",
      "Epoch 28/150\n",
      "109/109 [==============================] - 0s 4ms/step - loss: 0.6249 - val_loss: 0.4756\n",
      "Epoch 29/150\n",
      "109/109 [==============================] - 0s 4ms/step - loss: 0.6045 - val_loss: 0.4637\n",
      "Epoch 30/150\n",
      "109/109 [==============================] - 1s 5ms/step - loss: 0.5990 - val_loss: 0.4503\n",
      "Epoch 31/150\n",
      "109/109 [==============================] - 0s 4ms/step - loss: 0.5982 - val_loss: 0.4408\n",
      "Epoch 32/150\n",
      "109/109 [==============================] - 0s 4ms/step - loss: 0.5936 - val_loss: 0.4325\n",
      "Epoch 33/150\n",
      "109/109 [==============================] - 0s 4ms/step - loss: 0.5851 - val_loss: 0.4269\n",
      "Epoch 34/150\n",
      "109/109 [==============================] - 0s 4ms/step - loss: 0.5863 - val_loss: 0.4201\n",
      "Epoch 35/150\n",
      "109/109 [==============================] - 0s 4ms/step - loss: 0.5877 - val_loss: 0.4179\n",
      "Epoch 36/150\n",
      "109/109 [==============================] - 0s 2ms/step - loss: 0.5776 - val_loss: 0.4039\n",
      "Epoch 37/150\n",
      "109/109 [==============================] - 0s 2ms/step - loss: 0.5802 - val_loss: 0.3890\n",
      "Epoch 38/150\n",
      "109/109 [==============================] - 0s 3ms/step - loss: 0.5542 - val_loss: 0.3731\n",
      "Epoch 39/150\n",
      "109/109 [==============================] - 0s 3ms/step - loss: 0.5518 - val_loss: 0.3534\n",
      "Epoch 40/150\n",
      "109/109 [==============================] - 0s 2ms/step - loss: 0.5192 - val_loss: 0.3250\n",
      "Epoch 41/150\n",
      "109/109 [==============================] - 0s 3ms/step - loss: 0.5107 - val_loss: 0.3145\n",
      "Epoch 42/150\n",
      "109/109 [==============================] - 0s 3ms/step - loss: 0.5051 - val_loss: 0.3034\n",
      "Epoch 43/150\n",
      "109/109 [==============================] - 0s 3ms/step - loss: 0.4952 - val_loss: 0.2846\n",
      "Epoch 44/150\n",
      "109/109 [==============================] - 0s 2ms/step - loss: 0.4952 - val_loss: 0.2865\n",
      "Epoch 45/150\n",
      "109/109 [==============================] - 0s 3ms/step - loss: 0.4882 - val_loss: 0.2738\n",
      "Epoch 46/150\n",
      "109/109 [==============================] - 0s 4ms/step - loss: 0.4882 - val_loss: 0.2720\n",
      "Epoch 47/150\n",
      "109/109 [==============================] - 0s 4ms/step - loss: 0.4836 - val_loss: 0.2712\n",
      "Epoch 48/150\n",
      "109/109 [==============================] - 0s 4ms/step - loss: 0.4909 - val_loss: 0.2627\n",
      "Epoch 49/150\n",
      "109/109 [==============================] - 0s 4ms/step - loss: 0.4924 - val_loss: 0.2560\n",
      "Epoch 50/150\n",
      "109/109 [==============================] - 0s 4ms/step - loss: 0.4740 - val_loss: 0.2448\n",
      "Epoch 51/150\n",
      "109/109 [==============================] - 0s 4ms/step - loss: 0.4688 - val_loss: 0.2489\n",
      "Epoch 52/150\n",
      "109/109 [==============================] - 1s 5ms/step - loss: 0.4708 - val_loss: 0.2470\n",
      "Epoch 53/150\n",
      "109/109 [==============================] - 0s 4ms/step - loss: 0.4725 - val_loss: 0.2321\n",
      "Epoch 54/150\n",
      "109/109 [==============================] - 0s 4ms/step - loss: 0.4701 - val_loss: 0.2393\n",
      "Epoch 55/150\n",
      "109/109 [==============================] - 0s 4ms/step - loss: 0.4656 - val_loss: 0.2385\n",
      "Epoch 56/150\n",
      "109/109 [==============================] - 0s 4ms/step - loss: 0.4608 - val_loss: 0.2281\n",
      "Epoch 57/150\n",
      "109/109 [==============================] - 0s 4ms/step - loss: 0.4597 - val_loss: 0.2241\n",
      "Epoch 58/150\n",
      "109/109 [==============================] - 0s 5ms/step - loss: 0.4679 - val_loss: 0.2200\n",
      "Epoch 59/150\n",
      "109/109 [==============================] - 0s 4ms/step - loss: 0.4644 - val_loss: 0.2141\n",
      "Epoch 60/150\n",
      "109/109 [==============================] - 0s 4ms/step - loss: 0.4455 - val_loss: 0.2124\n",
      "Epoch 61/150\n",
      "109/109 [==============================] - 0s 4ms/step - loss: 0.4491 - val_loss: 0.2061\n",
      "Epoch 62/150\n",
      "109/109 [==============================] - 0s 3ms/step - loss: 0.4386 - val_loss: 0.1969\n",
      "Epoch 63/150\n",
      "109/109 [==============================] - 0s 2ms/step - loss: 0.4368 - val_loss: 0.1855\n",
      "Epoch 64/150\n",
      "109/109 [==============================] - 0s 2ms/step - loss: 0.4353 - val_loss: 0.1865\n",
      "Epoch 65/150\n",
      "109/109 [==============================] - 0s 3ms/step - loss: 0.4151 - val_loss: 0.1792\n",
      "Epoch 66/150\n",
      "109/109 [==============================] - 0s 3ms/step - loss: 0.4209 - val_loss: 0.1727\n",
      "Epoch 67/150\n",
      "109/109 [==============================] - 0s 3ms/step - loss: 0.4250 - val_loss: 0.1781\n",
      "Epoch 68/150\n",
      "109/109 [==============================] - 0s 3ms/step - loss: 0.4235 - val_loss: 0.1669\n",
      "Epoch 69/150\n",
      "109/109 [==============================] - 0s 3ms/step - loss: 0.4109 - val_loss: 0.1654\n",
      "Epoch 70/150\n",
      "109/109 [==============================] - 0s 3ms/step - loss: 0.4144 - val_loss: 0.1608\n",
      "Epoch 71/150\n",
      "109/109 [==============================] - 0s 2ms/step - loss: 0.4088 - val_loss: 0.1531\n",
      "Epoch 72/150\n",
      "109/109 [==============================] - 0s 4ms/step - loss: 0.4099 - val_loss: 0.1565\n",
      "Epoch 73/150\n",
      "109/109 [==============================] - 0s 4ms/step - loss: 0.3962 - val_loss: 0.1501\n",
      "Epoch 74/150\n",
      "109/109 [==============================] - 0s 4ms/step - loss: 0.3936 - val_loss: 0.1500\n",
      "Epoch 75/150\n",
      "109/109 [==============================] - 0s 4ms/step - loss: 0.3970 - val_loss: 0.1483\n",
      "Epoch 76/150\n",
      "109/109 [==============================] - 0s 4ms/step - loss: 0.3910 - val_loss: 0.1389\n",
      "Epoch 77/150\n",
      "109/109 [==============================] - 0s 5ms/step - loss: 0.3918 - val_loss: 0.1425\n",
      "Epoch 78/150\n",
      "109/109 [==============================] - 0s 4ms/step - loss: 0.3882 - val_loss: 0.1395\n",
      "Epoch 79/150\n",
      "109/109 [==============================] - 1s 5ms/step - loss: 0.3939 - val_loss: 0.1383\n",
      "Epoch 80/150\n",
      "109/109 [==============================] - 0s 4ms/step - loss: 0.3810 - val_loss: 0.1342\n",
      "Epoch 81/150\n",
      "109/109 [==============================] - 0s 4ms/step - loss: 0.3969 - val_loss: 0.1396\n",
      "Epoch 82/150\n",
      "109/109 [==============================] - 0s 3ms/step - loss: 0.3903 - val_loss: 0.1305\n",
      "Epoch 83/150\n",
      "109/109 [==============================] - 0s 3ms/step - loss: 0.3792 - val_loss: 0.1291\n",
      "Epoch 84/150\n",
      "109/109 [==============================] - 0s 3ms/step - loss: 0.3810 - val_loss: 0.1267\n",
      "Epoch 85/150\n",
      "109/109 [==============================] - 0s 3ms/step - loss: 0.3904 - val_loss: 0.1278\n",
      "Epoch 86/150\n",
      "109/109 [==============================] - 0s 4ms/step - loss: 0.3782 - val_loss: 0.1216\n",
      "Epoch 87/150\n",
      "109/109 [==============================] - 0s 4ms/step - loss: 0.3769 - val_loss: 0.1255\n",
      "Epoch 88/150\n",
      "109/109 [==============================] - 0s 4ms/step - loss: 0.3619 - val_loss: 0.1169\n",
      "Epoch 89/150\n",
      "109/109 [==============================] - 1s 5ms/step - loss: 0.3596 - val_loss: 0.1120\n",
      "Epoch 90/150\n",
      "109/109 [==============================] - 0s 4ms/step - loss: 0.3450 - val_loss: 0.1059\n",
      "Epoch 91/150\n",
      "109/109 [==============================] - 0s 4ms/step - loss: 0.3481 - val_loss: 0.1051\n",
      "Epoch 92/150\n",
      "109/109 [==============================] - 0s 4ms/step - loss: 0.3405 - val_loss: 0.1068\n",
      "Epoch 93/150\n",
      "109/109 [==============================] - 0s 2ms/step - loss: 0.3468 - val_loss: 0.1041\n",
      "Epoch 94/150\n",
      "109/109 [==============================] - 0s 3ms/step - loss: 0.3400 - val_loss: 0.1006\n",
      "Epoch 95/150\n",
      "109/109 [==============================] - 0s 3ms/step - loss: 0.3425 - val_loss: 0.1032\n",
      "Epoch 96/150\n",
      "109/109 [==============================] - 0s 2ms/step - loss: 0.3394 - val_loss: 0.0977\n",
      "Epoch 97/150\n",
      "109/109 [==============================] - 0s 3ms/step - loss: 0.3390 - val_loss: 0.0983\n",
      "Epoch 98/150\n",
      "109/109 [==============================] - 0s 3ms/step - loss: 0.3344 - val_loss: 0.0969\n",
      "Epoch 99/150\n",
      "109/109 [==============================] - 0s 3ms/step - loss: 0.3364 - val_loss: 0.0955\n",
      "Epoch 100/150\n",
      "109/109 [==============================] - 0s 3ms/step - loss: 0.3319 - val_loss: 0.0911\n",
      "Epoch 101/150\n",
      "109/109 [==============================] - 0s 3ms/step - loss: 0.3350 - val_loss: 0.0962\n",
      "Epoch 102/150\n",
      "109/109 [==============================] - 0s 3ms/step - loss: 0.3342 - val_loss: 0.0948\n",
      "Epoch 103/150\n",
      "109/109 [==============================] - 0s 4ms/step - loss: 0.3364 - val_loss: 0.0944\n",
      "Epoch 104/150\n",
      "109/109 [==============================] - 0s 4ms/step - loss: 0.3298 - val_loss: 0.0932\n",
      "Epoch 105/150\n",
      "109/109 [==============================] - 1s 5ms/step - loss: 0.3302 - val_loss: 0.0923\n",
      "Epoch 106/150\n",
      "109/109 [==============================] - 0s 4ms/step - loss: 0.3313 - val_loss: 0.0912\n",
      "Epoch 107/150\n",
      "109/109 [==============================] - 0s 4ms/step - loss: 0.3183 - val_loss: 0.0908\n",
      "Epoch 108/150\n",
      "109/109 [==============================] - 0s 4ms/step - loss: 0.3255 - val_loss: 0.0895\n",
      "Epoch 109/150\n",
      "109/109 [==============================] - 0s 4ms/step - loss: 0.3174 - val_loss: 0.0890\n",
      "Epoch 110/150\n",
      "109/109 [==============================] - 0s 5ms/step - loss: 0.3196 - val_loss: 0.0864\n",
      "Epoch 111/150\n",
      "109/109 [==============================] - 0s 4ms/step - loss: 0.3277 - val_loss: 0.0882\n",
      "Epoch 112/150\n",
      "109/109 [==============================] - 0s 4ms/step - loss: 0.3249 - val_loss: 0.0890\n",
      "Epoch 113/150\n",
      "109/109 [==============================] - 0s 4ms/step - loss: 0.3077 - val_loss: 0.0826\n",
      "Epoch 114/150\n",
      "109/109 [==============================] - 0s 4ms/step - loss: 0.3128 - val_loss: 0.0851\n",
      "Epoch 115/150\n",
      "109/109 [==============================] - 0s 4ms/step - loss: 0.3120 - val_loss: 0.0837\n",
      "Epoch 116/150\n",
      "109/109 [==============================] - 0s 3ms/step - loss: 0.3102 - val_loss: 0.0843\n",
      "Epoch 117/150\n",
      "109/109 [==============================] - 0s 3ms/step - loss: 0.3118 - val_loss: 0.0825\n",
      "Epoch 118/150\n",
      "109/109 [==============================] - 0s 3ms/step - loss: 0.3144 - val_loss: 0.0823\n",
      "Epoch 119/150\n",
      "109/109 [==============================] - 0s 2ms/step - loss: 0.3156 - val_loss: 0.0869\n",
      "Epoch 120/150\n",
      "109/109 [==============================] - 0s 3ms/step - loss: 0.3005 - val_loss: 0.0832\n",
      "Epoch 121/150\n",
      "109/109 [==============================] - 0s 3ms/step - loss: 0.3155 - val_loss: 0.0819\n",
      "Epoch 122/150\n",
      "109/109 [==============================] - 0s 3ms/step - loss: 0.3083 - val_loss: 0.0845\n",
      "Epoch 123/150\n",
      "109/109 [==============================] - 0s 2ms/step - loss: 0.3149 - val_loss: 0.0832\n",
      "Epoch 124/150\n",
      "109/109 [==============================] - 0s 3ms/step - loss: 0.3190 - val_loss: 0.0822\n",
      "Epoch 125/150\n",
      "109/109 [==============================] - 0s 3ms/step - loss: 0.3052 - val_loss: 0.0772\n",
      "Epoch 126/150\n",
      "109/109 [==============================] - 0s 3ms/step - loss: 0.3131 - val_loss: 0.0814\n",
      "Epoch 127/150\n",
      "109/109 [==============================] - 0s 3ms/step - loss: 0.3214 - val_loss: 0.0760\n",
      "Epoch 128/150\n",
      "109/109 [==============================] - 0s 3ms/step - loss: 0.3142 - val_loss: 0.0849\n",
      "Epoch 129/150\n",
      "109/109 [==============================] - 0s 2ms/step - loss: 0.3021 - val_loss: 0.0818\n",
      "Epoch 130/150\n",
      "109/109 [==============================] - 0s 4ms/step - loss: 0.2973 - val_loss: 0.0773\n",
      "Epoch 131/150\n",
      "109/109 [==============================] - 1s 5ms/step - loss: 0.3071 - val_loss: 0.0748\n",
      "Epoch 132/150\n",
      "109/109 [==============================] - 0s 5ms/step - loss: 0.3119 - val_loss: 0.0780\n",
      "Epoch 133/150\n",
      "109/109 [==============================] - 0s 4ms/step - loss: 0.3070 - val_loss: 0.0772\n",
      "Epoch 134/150\n",
      "109/109 [==============================] - 0s 4ms/step - loss: 0.3035 - val_loss: 0.0745\n",
      "Epoch 135/150\n",
      "109/109 [==============================] - 0s 4ms/step - loss: 0.3065 - val_loss: 0.0774\n",
      "Epoch 136/150\n",
      "109/109 [==============================] - 0s 4ms/step - loss: 0.3075 - val_loss: 0.0780\n",
      "Epoch 137/150\n",
      "109/109 [==============================] - 0s 4ms/step - loss: 0.3116 - val_loss: 0.0743\n",
      "Epoch 138/150\n",
      "109/109 [==============================] - 1s 5ms/step - loss: 0.3148 - val_loss: 0.0778\n",
      "Epoch 139/150\n",
      "109/109 [==============================] - 0s 4ms/step - loss: 0.3058 - val_loss: 0.0768\n",
      "Epoch 140/150\n",
      "109/109 [==============================] - 0s 4ms/step - loss: 0.3012 - val_loss: 0.0706\n",
      "Epoch 141/150\n",
      "109/109 [==============================] - 0s 5ms/step - loss: 0.2927 - val_loss: 0.0732\n",
      "Epoch 142/150\n",
      "109/109 [==============================] - 0s 4ms/step - loss: 0.3004 - val_loss: 0.0730\n",
      "Epoch 143/150\n",
      "109/109 [==============================] - 0s 4ms/step - loss: 0.3018 - val_loss: 0.0803\n",
      "Epoch 144/150\n",
      "109/109 [==============================] - 0s 4ms/step - loss: 0.3006 - val_loss: 0.0753\n",
      "Epoch 145/150\n",
      "109/109 [==============================] - 0s 4ms/step - loss: 0.2998 - val_loss: 0.0730\n",
      "Epoch 146/150\n",
      "109/109 [==============================] - 0s 4ms/step - loss: 0.2991 - val_loss: 0.0725\n",
      "Epoch 147/150\n",
      "109/109 [==============================] - 0s 4ms/step - loss: 0.2962 - val_loss: 0.0756\n",
      "Epoch 148/150\n",
      "109/109 [==============================] - 0s 4ms/step - loss: 0.2986 - val_loss: 0.0760\n",
      "Epoch 149/150\n",
      "109/109 [==============================] - 0s 3ms/step - loss: 0.2952 - val_loss: 0.0705\n",
      "Epoch 150/150\n",
      "109/109 [==============================] - 0s 3ms/step - loss: 0.3018 - val_loss: 0.0741\n"
     ]
    },
    {
     "data": {
      "text/plain": [
       "<keras.callbacks.History at 0x1d44967b290>"
      ]
     },
     "execution_count": 25,
     "metadata": {},
     "output_type": "execute_result"
    }
   ],
   "source": [
    "model.fit(x=X_train, \n",
    "          y=y_train, \n",
    "          epochs=150,\n",
    "          batch_size=100,\n",
    "          validation_data=(X_test, y_test), \n",
    "          verbose=1,\n",
    "          callbacks=[early_stop]\n",
    "          )"
   ]
  },
  {
   "attachments": {},
   "cell_type": "markdown",
   "metadata": {},
   "source": [
    "### Evaluate Model "
   ]
  },
  {
   "cell_type": "code",
   "execution_count": 26,
   "metadata": {},
   "outputs": [
    {
     "data": {
      "text/plain": [
       "<AxesSubplot: >"
      ]
     },
     "execution_count": 26,
     "metadata": {},
     "output_type": "execute_result"
    },
    {
     "data": {
      "image/png": "[encoded data removed]",
      "text/plain": [
       "<Figure size 640x480 with 1 Axes>"
      ]
     },
     "metadata": {},
     "output_type": "display_data"
    }
   ],
   "source": [
    "# Learning Rate\n",
    "losses = pd.DataFrame(model.history.history)\n",
    "losses[['loss','val_loss']].plot()"
   ]
  },
  {
   "cell_type": "code",
   "execution_count": 27,
   "metadata": {},
   "outputs": [],
   "source": [
    "from sklearn.metrics import classification_report,confusion_matrix"
   ]
  },
  {
   "attachments": {},
   "cell_type": "markdown",
   "metadata": {},
   "source": [
    "### Predictions on test"
   ]
  },
  {
   "cell_type": "code",
   "execution_count": 28,
   "metadata": {},
   "outputs": [
    {
     "name": "stdout",
     "output_type": "stream",
     "text": [
      "146/146 [==============================] - 0s 1ms/step\n"
     ]
    }
   ],
   "source": [
    "predictions = model.predict(X_test)"
   ]
  },
  {
   "cell_type": "code",
   "execution_count": 29,
   "metadata": {},
   "outputs": [],
   "source": [
    "predictions = np.argmax(predictions, axis=1)"
   ]
  },
  {
   "cell_type": "code",
   "execution_count": 30,
   "metadata": {},
   "outputs": [],
   "source": [
    "from sklearn.metrics import classification_report,confusion_matrix"
   ]
  },
  {
   "cell_type": "code",
   "execution_count": 31,
   "metadata": {},
   "outputs": [
    {
     "name": "stdout",
     "output_type": "stream",
     "text": [
      "Confusion Matrix\n",
      "[[1202    0    0    0]\n",
      " [  53 1146    0    0]\n",
      " [   0    0 1079    0]\n",
      " [   0    0    3 1182]]\n"
     ]
    }
   ],
   "source": [
    "print('Confusion Matrix')\n",
    "print(confusion_matrix(y_test,predictions))"
   ]
  },
  {
   "cell_type": "code",
   "execution_count": 32,
   "metadata": {},
   "outputs": [
    {
     "name": "stdout",
     "output_type": "stream",
     "text": [
      "              precision    recall  f1-score   support\n",
      "\n",
      "           0       0.96      1.00      0.98      1202\n",
      "           1       1.00      0.96      0.98      1199\n",
      "           2       1.00      1.00      1.00      1079\n",
      "           3       1.00      1.00      1.00      1185\n",
      "\n",
      "    accuracy                           0.99      4665\n",
      "   macro avg       0.99      0.99      0.99      4665\n",
      "weighted avg       0.99      0.99      0.99      4665\n",
      "\n"
     ]
    }
   ],
   "source": [
    "print(classification_report(y_test,predictions))"
   ]
  },
  {
   "cell_type": "code",
   "execution_count": 33,
   "metadata": {},
   "outputs": [
    {
     "data": {
      "text/html": [
       "<div>\n",
       "<style scoped>\n",
       "    .dataframe tbody tr th:only-of-type {\n",
       "        vertical-align: middle;\n",
       "    }\n",
       "\n",
       "    .dataframe tbody tr th {\n",
       "        vertical-align: top;\n",
       "    }\n",
       "\n",
       "    .dataframe thead th {\n",
       "        text-align: right;\n",
       "    }\n",
       "</style>\n",
       "<table border=\"1\" class=\"dataframe\">\n",
       "  <thead>\n",
       "    <tr style=\"text-align: right;\">\n",
       "      <th></th>\n",
       "      <th>Land_Truth</th>\n",
       "      <th>Mean_Red</th>\n",
       "      <th>Mean_Green</th>\n",
       "      <th>Mean_Blue</th>\n",
       "      <th>Mean_NIR</th>\n",
       "      <th>Mean_nDSM</th>\n",
       "      <th>NDVI</th>\n",
       "      <th>sd_dsm</th>\n",
       "    </tr>\n",
       "  </thead>\n",
       "  <tbody>\n",
       "    <tr>\n",
       "      <th>14896</th>\n",
       "      <td>Buildings</td>\n",
       "      <td>153.322581</td>\n",
       "      <td>152.548387</td>\n",
       "      <td>160.322581</td>\n",
       "      <td>90.193548</td>\n",
       "      <td>4.501323</td>\n",
       "      <td>-0.25924</td>\n",
       "      <td>6.232467</td>\n",
       "    </tr>\n",
       "  </tbody>\n",
       "</table>\n",
       "</div>"
      ],
      "text/plain": [
       "      Land_Truth    Mean_Red  Mean_Green   Mean_Blue   Mean_NIR  Mean_nDSM  \\\n",
       "14896  Buildings  153.322581  152.548387  160.322581  90.193548   4.501323   \n",
       "\n",
       "          NDVI    sd_dsm  \n",
       "14896 -0.25924  6.232467  "
      ]
     },
     "execution_count": 33,
     "metadata": {},
     "output_type": "execute_result"
    }
   ],
   "source": [
    "# test model on a new input\n",
    "sample = all_df.sample(1)\n",
    "sample"
   ]
  },
  {
   "cell_type": "code",
   "execution_count": 34,
   "metadata": {},
   "outputs": [
    {
     "name": "stdout",
     "output_type": "stream",
     "text": [
      "1/1 [==============================] - 0s 71ms/step\n"
     ]
    },
    {
     "data": {
      "text/plain": [
       "array([3], dtype=int64)"
      ]
     },
     "execution_count": 34,
     "metadata": {},
     "output_type": "execute_result"
    }
   ],
   "source": [
    "sample_prediction = model.predict(sample.drop(['Land_Truth'], axis=1))\n",
    "sample_prediction = np.argmax(sample_prediction, axis=1)\n",
    "sample_prediction"
   ]
  },
  {
   "cell_type": "code",
   "execution_count": 35,
   "metadata": {},
   "outputs": [],
   "source": [
    "# Save model for later use\n",
    "with open('obia_ml_tensor1.pkl', 'wb') as f:\n",
    "    pickle.dump(model, f)"
   ]
  },
  {
   "cell_type": "code",
   "execution_count": null,
   "metadata": {},
   "outputs": [],
   "source": []
  }
 ],
 "metadata": {
  "kernelspec": {
   "display_name": "datasci",
   "language": "python",
   "name": "python3"
  },
  "language_info": {
   "codemirror_mode": {
    "name": "ipython",
    "version": 3
   },
   "file_extension": ".py",
   "mimetype": "text/x-python",
   "name": "python",
   "nbconvert_exporter": "python",
   "pygments_lexer": "ipython3",
   "version": "3.11.0"
  },
  "orig_nbformat": 4
 },
 "nbformat": 4,
 "nbformat_minor": 2
}
